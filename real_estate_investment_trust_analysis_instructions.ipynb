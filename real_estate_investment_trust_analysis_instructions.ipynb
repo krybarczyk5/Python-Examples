{
 "cells": [
  {
   "cell_type": "markdown",
   "metadata": {},
   "source": [
    "# REIT STOCK ANALYSIS"
   ]
  },
  {
   "cell_type": "markdown",
   "metadata": {},
   "source": [
    "In this project, you will analyze Real Estate Investment Trusts, commonly known as REITs. REITs are companies that own or operate real estate that produces income. REITs, like the stocks of regular public companies, are traded on different stock exchanges. Investing in a REIT allows you to invest in portfolios of real estate assets the same way you can invest in a company by buying its stock.\n",
    "\n",
    "Using financial statistics and NumPy you will analyze two REITs: [Sabra Health Care REIT Inc. (NASDAQ: SBRA)](https://finance.yahoo.com/quote/SBRA/), which invests in health care real estate, and [Equity Residential (NASDAQ:EQR)](https://finance.yahoo.com/quote/EQR/), which invests in rental apartment properties."
   ]
  },
  {
   "cell_type": "markdown",
   "metadata": {},
   "source": [
    "The time period for analysis we will be using is `Jan 1 2018` to `Dec 31 2018`. The REIT data for SBRA (`SBRA.csv`) and EQR (`EQR.csv`) can be found in the same folder as this file."
   ]
  },
  {
   "cell_type": "markdown",
   "metadata": {},
   "source": [
    "1. Import the numpy module as np"
   ]
  },
  {
   "cell_type": "code",
   "execution_count": 1,
   "metadata": {},
   "outputs": [],
   "source": [
    "import numpy as np\n",
    "import pandas as pd"
   ]
  },
  {
   "cell_type": "markdown",
   "metadata": {},
   "source": [
    "2. Load the adjusted closings for SBRA"
   ]
  },
  {
   "cell_type": "code",
   "execution_count": 2,
   "metadata": {},
   "outputs": [
    {
     "data": {
      "text/html": [
       "<div>\n",
       "<style scoped>\n",
       "    .dataframe tbody tr th:only-of-type {\n",
       "        vertical-align: middle;\n",
       "    }\n",
       "\n",
       "    .dataframe tbody tr th {\n",
       "        vertical-align: top;\n",
       "    }\n",
       "\n",
       "    .dataframe thead th {\n",
       "        text-align: right;\n",
       "    }\n",
       "</style>\n",
       "<table border=\"1\" class=\"dataframe\">\n",
       "  <thead>\n",
       "    <tr style=\"text-align: right;\">\n",
       "      <th></th>\n",
       "      <th>Date</th>\n",
       "      <th>Open</th>\n",
       "      <th>High</th>\n",
       "      <th>Low</th>\n",
       "      <th>Close</th>\n",
       "      <th>Adj Close</th>\n",
       "      <th>Volume</th>\n",
       "    </tr>\n",
       "  </thead>\n",
       "  <tbody>\n",
       "    <tr>\n",
       "      <th>0</th>\n",
       "      <td>2019-01-02</td>\n",
       "      <td>16.320000</td>\n",
       "      <td>16.320000</td>\n",
       "      <td>15.880000</td>\n",
       "      <td>16.070000</td>\n",
       "      <td>15.362330</td>\n",
       "      <td>1697200</td>\n",
       "    </tr>\n",
       "    <tr>\n",
       "      <th>1</th>\n",
       "      <td>2019-01-03</td>\n",
       "      <td>16.049999</td>\n",
       "      <td>16.900000</td>\n",
       "      <td>15.930000</td>\n",
       "      <td>16.750000</td>\n",
       "      <td>16.012386</td>\n",
       "      <td>2283900</td>\n",
       "    </tr>\n",
       "    <tr>\n",
       "      <th>2</th>\n",
       "      <td>2019-01-04</td>\n",
       "      <td>16.809999</td>\n",
       "      <td>17.340000</td>\n",
       "      <td>16.670000</td>\n",
       "      <td>17.290001</td>\n",
       "      <td>16.528606</td>\n",
       "      <td>2635900</td>\n",
       "    </tr>\n",
       "    <tr>\n",
       "      <th>3</th>\n",
       "      <td>2019-01-07</td>\n",
       "      <td>17.340000</td>\n",
       "      <td>17.770000</td>\n",
       "      <td>17.270000</td>\n",
       "      <td>17.660000</td>\n",
       "      <td>16.882313</td>\n",
       "      <td>1858700</td>\n",
       "    </tr>\n",
       "    <tr>\n",
       "      <th>4</th>\n",
       "      <td>2019-01-08</td>\n",
       "      <td>17.850000</td>\n",
       "      <td>18.389999</td>\n",
       "      <td>17.600000</td>\n",
       "      <td>18.230000</td>\n",
       "      <td>17.427212</td>\n",
       "      <td>2241700</td>\n",
       "    </tr>\n",
       "    <tr>\n",
       "      <th>...</th>\n",
       "      <td>...</td>\n",
       "      <td>...</td>\n",
       "      <td>...</td>\n",
       "      <td>...</td>\n",
       "      <td>...</td>\n",
       "      <td>...</td>\n",
       "      <td>...</td>\n",
       "    </tr>\n",
       "    <tr>\n",
       "      <th>119</th>\n",
       "      <td>2019-06-24</td>\n",
       "      <td>19.580000</td>\n",
       "      <td>19.670000</td>\n",
       "      <td>19.180000</td>\n",
       "      <td>19.309999</td>\n",
       "      <td>19.309999</td>\n",
       "      <td>1691000</td>\n",
       "    </tr>\n",
       "    <tr>\n",
       "      <th>120</th>\n",
       "      <td>2019-06-25</td>\n",
       "      <td>19.379999</td>\n",
       "      <td>19.620001</td>\n",
       "      <td>19.219999</td>\n",
       "      <td>19.260000</td>\n",
       "      <td>19.260000</td>\n",
       "      <td>1678500</td>\n",
       "    </tr>\n",
       "    <tr>\n",
       "      <th>121</th>\n",
       "      <td>2019-06-26</td>\n",
       "      <td>19.260000</td>\n",
       "      <td>19.270000</td>\n",
       "      <td>18.790001</td>\n",
       "      <td>18.870001</td>\n",
       "      <td>18.870001</td>\n",
       "      <td>1553900</td>\n",
       "    </tr>\n",
       "    <tr>\n",
       "      <th>122</th>\n",
       "      <td>2019-06-27</td>\n",
       "      <td>18.959999</td>\n",
       "      <td>19.480000</td>\n",
       "      <td>18.879999</td>\n",
       "      <td>19.450001</td>\n",
       "      <td>19.450001</td>\n",
       "      <td>1206600</td>\n",
       "    </tr>\n",
       "    <tr>\n",
       "      <th>123</th>\n",
       "      <td>2019-06-28</td>\n",
       "      <td>19.469999</td>\n",
       "      <td>19.760000</td>\n",
       "      <td>19.450001</td>\n",
       "      <td>19.690001</td>\n",
       "      <td>19.690001</td>\n",
       "      <td>1999000</td>\n",
       "    </tr>\n",
       "  </tbody>\n",
       "</table>\n",
       "<p>124 rows × 7 columns</p>\n",
       "</div>"
      ],
      "text/plain": [
       "           Date       Open       High        Low      Close  Adj Close  \\\n",
       "0    2019-01-02  16.320000  16.320000  15.880000  16.070000  15.362330   \n",
       "1    2019-01-03  16.049999  16.900000  15.930000  16.750000  16.012386   \n",
       "2    2019-01-04  16.809999  17.340000  16.670000  17.290001  16.528606   \n",
       "3    2019-01-07  17.340000  17.770000  17.270000  17.660000  16.882313   \n",
       "4    2019-01-08  17.850000  18.389999  17.600000  18.230000  17.427212   \n",
       "..          ...        ...        ...        ...        ...        ...   \n",
       "119  2019-06-24  19.580000  19.670000  19.180000  19.309999  19.309999   \n",
       "120  2019-06-25  19.379999  19.620001  19.219999  19.260000  19.260000   \n",
       "121  2019-06-26  19.260000  19.270000  18.790001  18.870001  18.870001   \n",
       "122  2019-06-27  18.959999  19.480000  18.879999  19.450001  19.450001   \n",
       "123  2019-06-28  19.469999  19.760000  19.450001  19.690001  19.690001   \n",
       "\n",
       "      Volume  \n",
       "0    1697200  \n",
       "1    2283900  \n",
       "2    2635900  \n",
       "3    1858700  \n",
       "4    2241700  \n",
       "..       ...  \n",
       "119  1691000  \n",
       "120  1678500  \n",
       "121  1553900  \n",
       "122  1206600  \n",
       "123  1999000  \n",
       "\n",
       "[124 rows x 7 columns]"
      ]
     },
     "execution_count": 2,
     "metadata": {},
     "output_type": "execute_result"
    }
   ],
   "source": [
    "SBRA = pd.read_csv('SBRA.csv')\n",
    "SBRA"
   ]
  },
  {
   "cell_type": "code",
   "execution_count": 3,
   "metadata": {},
   "outputs": [
    {
     "data": {
      "text/plain": [
       "0      15.362330\n",
       "1      16.012386\n",
       "2      16.528606\n",
       "3      16.882313\n",
       "4      17.427212\n",
       "         ...    \n",
       "119    19.309999\n",
       "120    19.260000\n",
       "121    18.870001\n",
       "122    19.450001\n",
       "123    19.690001\n",
       "Name: Adj Close, Length: 124, dtype: float64"
      ]
     },
     "execution_count": 3,
     "metadata": {},
     "output_type": "execute_result"
    }
   ],
   "source": [
    "SBRA_adj = SBRA['Adj Close']\n",
    "SBRA_adj\n",
    "                "
   ]
  },
  {
   "cell_type": "markdown",
   "metadata": {},
   "source": [
    "3. Load the adjusted closings for EQR"
   ]
  },
  {
   "cell_type": "code",
   "execution_count": 4,
   "metadata": {},
   "outputs": [
    {
     "data": {
      "text/html": [
       "<div>\n",
       "<style scoped>\n",
       "    .dataframe tbody tr th:only-of-type {\n",
       "        vertical-align: middle;\n",
       "    }\n",
       "\n",
       "    .dataframe tbody tr th {\n",
       "        vertical-align: top;\n",
       "    }\n",
       "\n",
       "    .dataframe thead th {\n",
       "        text-align: right;\n",
       "    }\n",
       "</style>\n",
       "<table border=\"1\" class=\"dataframe\">\n",
       "  <thead>\n",
       "    <tr style=\"text-align: right;\">\n",
       "      <th></th>\n",
       "      <th>Date</th>\n",
       "      <th>Open</th>\n",
       "      <th>High</th>\n",
       "      <th>Low</th>\n",
       "      <th>Close</th>\n",
       "      <th>Adj Close</th>\n",
       "      <th>Volume</th>\n",
       "    </tr>\n",
       "  </thead>\n",
       "  <tbody>\n",
       "    <tr>\n",
       "      <th>0</th>\n",
       "      <td>2019-01-02</td>\n",
       "      <td>65.419998</td>\n",
       "      <td>65.430000</td>\n",
       "      <td>63.410000</td>\n",
       "      <td>63.759998</td>\n",
       "      <td>62.800674</td>\n",
       "      <td>1300000</td>\n",
       "    </tr>\n",
       "    <tr>\n",
       "      <th>1</th>\n",
       "      <td>2019-01-03</td>\n",
       "      <td>63.669998</td>\n",
       "      <td>65.059998</td>\n",
       "      <td>63.669998</td>\n",
       "      <td>64.160004</td>\n",
       "      <td>63.194660</td>\n",
       "      <td>1744700</td>\n",
       "    </tr>\n",
       "    <tr>\n",
       "      <th>2</th>\n",
       "      <td>2019-01-04</td>\n",
       "      <td>64.330002</td>\n",
       "      <td>65.199997</td>\n",
       "      <td>64.160004</td>\n",
       "      <td>64.559998</td>\n",
       "      <td>63.588642</td>\n",
       "      <td>1462500</td>\n",
       "    </tr>\n",
       "    <tr>\n",
       "      <th>3</th>\n",
       "      <td>2019-01-07</td>\n",
       "      <td>64.769997</td>\n",
       "      <td>65.559998</td>\n",
       "      <td>64.660004</td>\n",
       "      <td>65.099998</td>\n",
       "      <td>64.120514</td>\n",
       "      <td>1792200</td>\n",
       "    </tr>\n",
       "    <tr>\n",
       "      <th>4</th>\n",
       "      <td>2019-01-08</td>\n",
       "      <td>65.330002</td>\n",
       "      <td>66.410004</td>\n",
       "      <td>65.190002</td>\n",
       "      <td>66.320000</td>\n",
       "      <td>65.322166</td>\n",
       "      <td>2047900</td>\n",
       "    </tr>\n",
       "    <tr>\n",
       "      <th>...</th>\n",
       "      <td>...</td>\n",
       "      <td>...</td>\n",
       "      <td>...</td>\n",
       "      <td>...</td>\n",
       "      <td>...</td>\n",
       "      <td>...</td>\n",
       "      <td>...</td>\n",
       "    </tr>\n",
       "    <tr>\n",
       "      <th>119</th>\n",
       "      <td>2019-06-24</td>\n",
       "      <td>78.339996</td>\n",
       "      <td>78.449997</td>\n",
       "      <td>77.709999</td>\n",
       "      <td>78.269997</td>\n",
       "      <td>77.682327</td>\n",
       "      <td>794300</td>\n",
       "    </tr>\n",
       "    <tr>\n",
       "      <th>120</th>\n",
       "      <td>2019-06-25</td>\n",
       "      <td>78.360001</td>\n",
       "      <td>78.760002</td>\n",
       "      <td>76.839996</td>\n",
       "      <td>76.910004</td>\n",
       "      <td>76.332542</td>\n",
       "      <td>956000</td>\n",
       "    </tr>\n",
       "    <tr>\n",
       "      <th>121</th>\n",
       "      <td>2019-06-26</td>\n",
       "      <td>76.839996</td>\n",
       "      <td>76.910004</td>\n",
       "      <td>75.040001</td>\n",
       "      <td>75.650002</td>\n",
       "      <td>75.082001</td>\n",
       "      <td>1558100</td>\n",
       "    </tr>\n",
       "    <tr>\n",
       "      <th>122</th>\n",
       "      <td>2019-06-27</td>\n",
       "      <td>75.570000</td>\n",
       "      <td>76.480003</td>\n",
       "      <td>75.260002</td>\n",
       "      <td>75.610001</td>\n",
       "      <td>75.610001</td>\n",
       "      <td>876300</td>\n",
       "    </tr>\n",
       "    <tr>\n",
       "      <th>123</th>\n",
       "      <td>2019-06-28</td>\n",
       "      <td>75.680000</td>\n",
       "      <td>76.660004</td>\n",
       "      <td>75.629997</td>\n",
       "      <td>75.919998</td>\n",
       "      <td>75.919998</td>\n",
       "      <td>1934500</td>\n",
       "    </tr>\n",
       "  </tbody>\n",
       "</table>\n",
       "<p>124 rows × 7 columns</p>\n",
       "</div>"
      ],
      "text/plain": [
       "           Date       Open       High        Low      Close  Adj Close  \\\n",
       "0    2019-01-02  65.419998  65.430000  63.410000  63.759998  62.800674   \n",
       "1    2019-01-03  63.669998  65.059998  63.669998  64.160004  63.194660   \n",
       "2    2019-01-04  64.330002  65.199997  64.160004  64.559998  63.588642   \n",
       "3    2019-01-07  64.769997  65.559998  64.660004  65.099998  64.120514   \n",
       "4    2019-01-08  65.330002  66.410004  65.190002  66.320000  65.322166   \n",
       "..          ...        ...        ...        ...        ...        ...   \n",
       "119  2019-06-24  78.339996  78.449997  77.709999  78.269997  77.682327   \n",
       "120  2019-06-25  78.360001  78.760002  76.839996  76.910004  76.332542   \n",
       "121  2019-06-26  76.839996  76.910004  75.040001  75.650002  75.082001   \n",
       "122  2019-06-27  75.570000  76.480003  75.260002  75.610001  75.610001   \n",
       "123  2019-06-28  75.680000  76.660004  75.629997  75.919998  75.919998   \n",
       "\n",
       "      Volume  \n",
       "0    1300000  \n",
       "1    1744700  \n",
       "2    1462500  \n",
       "3    1792200  \n",
       "4    2047900  \n",
       "..       ...  \n",
       "119   794300  \n",
       "120   956000  \n",
       "121  1558100  \n",
       "122   876300  \n",
       "123  1934500  \n",
       "\n",
       "[124 rows x 7 columns]"
      ]
     },
     "execution_count": 4,
     "metadata": {},
     "output_type": "execute_result"
    }
   ],
   "source": [
    "EQR = pd.read_csv('EQR.csv')\n",
    "EQR"
   ]
  },
  {
   "cell_type": "code",
   "execution_count": 5,
   "metadata": {},
   "outputs": [
    {
     "data": {
      "text/plain": [
       "0      62.800674\n",
       "1      63.194660\n",
       "2      63.588642\n",
       "3      64.120514\n",
       "4      65.322166\n",
       "         ...    \n",
       "119    77.682327\n",
       "120    76.332542\n",
       "121    75.082001\n",
       "122    75.610001\n",
       "123    75.919998\n",
       "Name: Adj Close, Length: 124, dtype: float64"
      ]
     },
     "execution_count": 5,
     "metadata": {},
     "output_type": "execute_result"
    }
   ],
   "source": [
    "EQR_adj = EQR['Adj Close']\n",
    "EQR_adj"
   ]
  },
  {
   "cell_type": "markdown",
   "metadata": {},
   "source": [
    "## Simple Rate of Return Function"
   ]
  },
  {
   "cell_type": "markdown",
   "metadata": {},
   "source": [
    "4. To calculate the daily rate of return for the SBRA stock, we need the daily adjusted closing price. The formula we are using for the daily rate of return is out[n] = a[n+1] - a[n] "
   ]
  },
  {
   "cell_type": "markdown",
   "metadata": {},
   "source": [
    "5. Create a function that returns the daily rate of return\n",
    "\n",
    "    step 1. define a function named `rate_of_return`\n",
    "    \n",
    "    step 2. create parameter for  `adj_closings`\n",
    "    \n",
    "    step 3. Within the function use np.diff() and set it to the variable `daily_simple_ror`\n",
    "    \n",
    "    step 4. return `daily_simple_ror`"
   ]
  },
  {
   "cell_type": "code",
   "execution_count": 6,
   "metadata": {},
   "outputs": [],
   "source": [
    "def simple_rate_of_return(adj_closings):\n",
    "    daily_simple_ror = np.diff(adj_closings)\n",
    "    return daily_simple_ror"
   ]
  },
  {
   "cell_type": "markdown",
   "metadata": {},
   "source": [
    "## Calculate Daily Rate of Return for SBRA"
   ]
  },
  {
   "cell_type": "markdown",
   "metadata": {},
   "source": [
    "6. Call the function `simple_rate_of_return` with the arguments `adj_closings_sbra`. Then print the results. "
   ]
  },
  {
   "cell_type": "code",
   "execution_count": 7,
   "metadata": {},
   "outputs": [
    {
     "data": {
      "text/plain": [
       "array([ 0.650056,  0.51622 ,  0.353707,  0.544899,  0.095596, -0.00956 ,\n",
       "       -0.086036, -0.162514,  0.152954,  0.430184,  0.258111,  0.238991,\n",
       "       -0.03824 ,  0.191194,  0.277228,  0.31547 ,  0.296346, -0.009558,\n",
       "        0.181632,  0.076479, -0.210312,  0.23899 , -0.124275,  0.095597,\n",
       "        0.172071, -0.152954, -0.047796, -0.248553, -0.028677,  0.009777,\n",
       "        0.205321, -0.156435, -0.146658, -0.019556, -0.078217, -0.508417,\n",
       "       -0.254208, -0.342201, -0.322649, -0.400867, -0.068442,  0.009779,\n",
       "       -0.107549, -0.029332, -0.048887,  0.312872,  0.224877,  0.332426,\n",
       "        0.029329, -0.078217, -0.166214,  0.039111,  0.215099,  0.606188,\n",
       "       -0.293318,  0.156437,  0.312872,  0.107548,  0.322649, -0.156437,\n",
       "       -0.136879, -0.019556, -0.185767,  0.068442,  0.195543, -0.087995,\n",
       "       -0.06844 ,  0.244431,  0.195545,  0.      , -0.019556, -0.400866,\n",
       "       -0.45953 ,  0.351981, -0.303095,  0.303095,  0.195545,  0.      ,\n",
       "        0.24443 , -0.185768,  0.156435, -0.029329,  0.048885,  0.410643,\n",
       "       -0.097773, -0.31287 ,  0.175989, -0.479084,  0.469307, -0.068439,\n",
       "        0.175989,  0.156437,  0.175989, -0.040001, -0.179998,  0.199999,\n",
       "       -0.029999,  0.009998,  0.040001, -0.209999, -0.320002,  0.150002,\n",
       "       -0.08    , -0.050001, -0.14    ,  0.22    ,  0.130001,  0.039999,\n",
       "       -0.17    , -0.029999,  0.029999,  0.16    , -0.05    ,  0.360001,\n",
       "       -0.210001,  0.559999, -0.09    , -0.479999, -0.260001, -0.049999,\n",
       "       -0.389999,  0.58    ,  0.24    ])"
      ]
     },
     "execution_count": 7,
     "metadata": {},
     "output_type": "execute_result"
    }
   ],
   "source": [
    "SBRA_daily_sror = simple_rate_of_return(SBRA_adj)\n",
    "SBRA_daily_sror"
   ]
  },
  {
   "cell_type": "markdown",
   "metadata": {},
   "source": [
    "## Calculate Daily Rate of Return for EQR"
   ]
  },
  {
   "cell_type": "markdown",
   "metadata": {},
   "source": [
    "7. Call the function `simple_rate_of_return` with the arguments `adj_closings_eqr`. Then print the results. "
   ]
  },
  {
   "cell_type": "code",
   "execution_count": 8,
   "metadata": {
    "scrolled": true
   },
   "outputs": [
    {
     "data": {
      "text/plain": [
       "array([ 0.393986,  0.393982,  0.531872,  1.201652,  0.      ,  1.073601,\n",
       "        0.137886,  0.078797,  0.817505,  0.610679,  0.817513,  0.20684 ,\n",
       "        0.275788, -0.059105,  0.009857,  0.315178,  1.03421 ,  0.640221,\n",
       "       -0.364441,  0.551574, -0.531868,  0.758416,  0.157585,  0.049247,\n",
       "        0.531884, -0.098496,  0.019692, -0.906151,  0.738708, -0.167434,\n",
       "        0.088638,  0.315186, -0.837204,  1.162246,  0.364434, -0.719025,\n",
       "        0.21669 , -0.384125,  0.354584, -0.187149,  0.472786, -0.049256,\n",
       "       -0.374275, -0.118194,  0.206833,  0.787971,  0.600815, -0.137886,\n",
       "        0.147735, -0.295478, -0.768265, -0.472786,  0.118202,  1.15239 ,\n",
       "        0.176666,  0.069473,  0.664971, -0.158799,  0.645119, -0.307671,\n",
       "       -0.337448,  0.704674, -0.297752, -0.109177,  0.327522, -0.049621,\n",
       "       -0.168724,  0.952789,  0.337448,  0.754295,  0.148873, -1.855957,\n",
       "       -1.429192,  0.774147, -0.893249,  0.784073,  0.506172,  0.496246,\n",
       "        0.228272, -0.893242,  1.111587,  0.099251, -0.119095,  0.188568,\n",
       "       -0.377144, -1.429191, -0.327515,  0.377144,  1.002419,  0.009918,\n",
       "       -0.029778,  0.377159,  0.615334, -0.188568, -0.863464,  0.605415,\n",
       "        0.277901,  0.466468,  0.079399, -0.972641, -0.535949,  0.14888 ,\n",
       "        0.744369, -0.32753 , -0.754287,  1.756706,  0.53595 ,  0.188575,\n",
       "       -0.148872, -0.029778, -0.148872,  0.277893,  0.327522,  0.406922,\n",
       "       -0.615341,  0.377143,  0.396996, -0.793991,  0.238197, -1.349785,\n",
       "       -1.250541,  0.528   ,  0.309997])"
      ]
     },
     "execution_count": 8,
     "metadata": {},
     "output_type": "execute_result"
    }
   ],
   "source": [
    "EQR_daily_sror = simple_rate_of_return(EQR_adj)\n",
    "EQR_daily_sror"
   ]
  },
  {
   "cell_type": "markdown",
   "metadata": {},
   "source": [
    "## Calculate Average Daily Return for SBRA"
   ]
  },
  {
   "cell_type": "markdown",
   "metadata": {},
   "source": [
    "8. Use `np.mean()` with the argument `daily_simple_returns_sbra` to calculate the average daily return for SBRA. Then set it to the variable name `average_daily_simple_return_sbra`"
   ]
  },
  {
   "cell_type": "code",
   "execution_count": 9,
   "metadata": {},
   "outputs": [
    {
     "data": {
      "text/plain": [
       "0.03518431707317072"
      ]
     },
     "execution_count": 9,
     "metadata": {},
     "output_type": "execute_result"
    }
   ],
   "source": [
    "average_daily_simple_return_SBRA = np.mean(SBRA_daily_sror)\n",
    "average_daily_simple_return_SBRA"
   ]
  },
  {
   "cell_type": "markdown",
   "metadata": {},
   "source": [
    "## Calculate Average Daily Return for EQR"
   ]
  },
  {
   "cell_type": "markdown",
   "metadata": {},
   "source": [
    "9. Use `np.mean()` with the argument `daily_simple_returns_eqr` to calculate the average daily return for EQR. Then set it to the variable name `average_daily_simple_return_eqr`"
   ]
  },
  {
   "cell_type": "code",
   "execution_count": 10,
   "metadata": {},
   "outputs": [
    {
     "data": {
      "text/plain": [
       "0.10666117073170736"
      ]
     },
     "execution_count": 10,
     "metadata": {},
     "output_type": "execute_result"
    }
   ],
   "source": [
    "average_daily_simple_return_EQR = np.mean(EQR_daily_sror)\n",
    "average_daily_simple_return_EQR"
   ]
  },
  {
   "cell_type": "markdown",
   "metadata": {},
   "source": [
    "## Compare the Average Daily Return between EQR and SBRA"
   ]
  },
  {
   "cell_type": "markdown",
   "metadata": {},
   "source": [
    "10. Based on the average daily simple returns of EQR and SBRA, which stock is more likely to be profitable in the future?"
   ]
  },
  {
   "cell_type": "markdown",
   "metadata": {},
   "source": [
    "### EQR is more profitable"
   ]
  },
  {
   "cell_type": "markdown",
   "metadata": {},
   "source": [
    "## Daily Log Returns Function"
   ]
  },
  {
   "cell_type": "markdown",
   "metadata": {},
   "source": [
    "11. Create a function that returns the daily rate of return\n",
    "\n",
    "    step 1. define a function named log_returns\n",
    "    \n",
    "    step 2. create parameter for  `adj_closings`\n",
    "    \n",
    "    step 3. use np.log() to get the log of each adjusted closing price and set it to the variable `log_adj_closings`\n",
    "    \n",
    "    step 4. use np.diff() to get the diff of each daily log adjusted closing price and set it to the variable `daily_log_returns`\n",
    "    \n",
    "    step 5. return `daily_log_returns`"
   ]
  },
  {
   "cell_type": "code",
   "execution_count": 11,
   "metadata": {},
   "outputs": [],
   "source": [
    "def log_returns(adj_closings):\n",
    "    log_adj_closings = np.log(adj_closings)\n",
    "    daily_log_returns = np.diff(log_adj_closings)\n",
    "    return daily_log_returns"
   ]
  },
  {
   "cell_type": "markdown",
   "metadata": {},
   "source": [
    "## Calculate Daily Log Returns for SBRA"
   ]
  },
  {
   "cell_type": "markdown",
   "metadata": {},
   "source": [
    "12. Call the function `log_returns` with the arguments `adj_closings_sbra`. Set it to the variable `daily_log_returns_sbra`. Then print the results. "
   ]
  },
  {
   "cell_type": "code",
   "execution_count": 14,
   "metadata": {
    "scrolled": true
   },
   "outputs": [
    {
     "data": {
      "text/plain": [
       "array([ 0.04144414,  0.03173003,  0.02117393,  0.03176639,  0.00547045,\n",
       "       -0.00054572, -0.00492473, -0.00936905,  0.00882034,  0.02439809,\n",
       "        0.01435818,  0.01311323, -0.00208667,  0.01038978,  0.01487581,\n",
       "        0.01666295,  0.01540389, -0.00049313,  0.00932975,  0.00390254,\n",
       "       -0.01076858,  0.01222804, -0.00633993,  0.00488047,  0.00872509,\n",
       "       -0.00775197, -0.00243476, -0.01275791, -0.00148248,  0.00050568,\n",
       "        0.01056078, -0.00803617, -0.00759303, -0.00101686, -0.00407743,\n",
       "       -0.0269168 , -0.01373503, -0.01879239, -0.0180481 , -0.02288689,\n",
       "       -0.00396048,  0.00056684, -0.00625177, -0.00171186, -0.00285965,\n",
       "        0.01816172,  0.01285297,  0.01870243,  0.00163339, -0.00436201,\n",
       "       -0.0093331 ,  0.00220398,  0.01203516,  0.03315811, -0.01590708,\n",
       "        0.00851529,  0.01681599,  0.00571571,  0.01695394, -0.00818426,\n",
       "       -0.00721641, -0.00103528, -0.00988817,  0.00365448,  0.01036808,\n",
       "       -0.00465237, -0.0036335 ,  0.01291675,  0.01021462,  0.        ,\n",
       "       -0.00101686, -0.02107504, -0.0247186 ,  0.01898796, -0.01632909,\n",
       "        0.01632909,  0.01039513,  0.        ,  0.01284371, -0.0097462 ,\n",
       "        0.00821357, -0.00153478,  0.00255683,  0.02122361, -0.00501258,\n",
       "       -0.01621103,  0.009151  , -0.0251102 ,  0.02460401, -0.00355052,\n",
       "        0.00910471,  0.00802418,  0.00895077, -0.00202742, -0.00917427,\n",
       "        0.01018852, -0.00152163,  0.00050738,  0.00202742, -0.01068979,\n",
       "       -0.01651235,  0.00777418, -0.00413865, -0.00259543, -0.00730311,\n",
       "        0.01145249,  0.00670629,  0.00205439, -0.00876068, -0.00155395,\n",
       "        0.00155395,  0.00824747, -0.00257003,  0.01835855, -0.01066817,\n",
       "        0.0281992 , -0.00447873, -0.02423132, -0.01337474, -0.00259264,\n",
       "       -0.02045699,  0.03027371,  0.01226382])"
      ]
     },
     "execution_count": 14,
     "metadata": {},
     "output_type": "execute_result"
    }
   ],
   "source": [
    "daily_log_returns_SBRA = log_returns(SBRA_adj)\n",
    "daily_log_returns_SBRA"
   ]
  },
  {
   "cell_type": "markdown",
   "metadata": {},
   "source": [
    "## Calculate Daily Log Returns for EQR"
   ]
  },
  {
   "cell_type": "markdown",
   "metadata": {},
   "source": [
    "13. Call the function `log_returns` with the arguments `adj_closings_eqr`. Set it to the variable `daily_log_returns_eqr`. Then print the results. "
   ]
  },
  {
   "cell_type": "code",
   "execution_count": 13,
   "metadata": {},
   "outputs": [
    {
     "data": {
      "text/plain": [
       "array([ 0.006254  ,  0.00621507,  0.00832947,  0.01856708,  0.        ,\n",
       "        0.01630188,  0.00207458,  0.00118362,  0.01219786,  0.00901573,\n",
       "        0.01194346,  0.00299935,  0.00398522, -0.00085275,  0.00014226,\n",
       "        0.00453827,  0.01474861,  0.00902221, -0.00512584,  0.00774768,\n",
       "       -0.00746985,  0.01063474,  0.00219559,  0.00068516,  0.00737016,\n",
       "       -0.00136074,  0.0002722 , -0.01260281,  0.01028593, -0.00232213,\n",
       "        0.00122999,  0.00436147, -0.01162714,  0.01610517,  0.00499698,\n",
       "       -0.00988309,  0.00298873, -0.00530423,  0.00489731, -0.0025818 ,\n",
       "        0.00650949, -0.0006762 , -0.00515315, -0.00163287,  0.00285568,\n",
       "        0.01080518,  0.00816103, -0.00186706,  0.00200029, -0.0040047 ,\n",
       "       -0.01048821, -0.00650949,  0.00163143,  0.01576737,  0.00239537,\n",
       "        0.0009404 ,  0.0089567 , -0.00213163,  0.00863161, -0.00410731,\n",
       "       -0.0045243 ,  0.0094247 , -0.00397147, -0.00146018,  0.00437405,\n",
       "       -0.00066146, -0.00225241,  0.01265335,  0.0044433 ,  0.00986126,\n",
       "        0.00193485, -0.02439301, -0.01919808,  0.01044471, -0.01206134,\n",
       "        0.01059494,  0.0067806 ,  0.0066033 ,  0.00302292, -0.01188132,\n",
       "        0.01476426,  0.00130773, -0.0015694 ,  0.00248375, -0.00497379,\n",
       "       -0.01907599, -0.00442321,  0.00509176,  0.01340879,  0.00013177,\n",
       "       -0.00039569,  0.00500017,  0.00810448, -0.00247663, -0.01141964,\n",
       "        0.00802049,  0.00366018,  0.0061138 ,  0.00103694, -0.01277722,\n",
       "       -0.00711095,  0.00198041,  0.00984325, -0.0043192 , -0.01001845,\n",
       "        0.02317914,  0.00696603,  0.00243952, -0.0019254 , -0.00038557,\n",
       "       -0.00192986,  0.00359938,  0.00422563,  0.00522528, -0.00791219,\n",
       "        0.00485681,  0.00508712, -0.01020024,  0.00307101, -0.01752843,\n",
       "       -0.01651849,  0.0070077 ,  0.00409157])"
      ]
     },
     "execution_count": 13,
     "metadata": {},
     "output_type": "execute_result"
    }
   ],
   "source": [
    "daily_log_returns_EQR = log_returns(EQR_adj)\n",
    "daily_log_returns_EQR"
   ]
  },
  {
   "cell_type": "markdown",
   "metadata": {},
   "source": [
    "## Annualize Daily Log Return Function"
   ]
  },
  {
   "cell_type": "markdown",
   "metadata": {},
   "source": [
    "14. Create a function that returns the daily rate of return\n",
    "\n",
    "    step 1. define a function named `annualize_log_return`\n",
    "    \n",
    "    step 2. create parameter for  `daily_log_returns`\n",
    "    \n",
    "    step 3. use `np.mean()` with the argument `daily_log_returns` to calculate the average daily return. Then set it to the variable name `average_daily_log_returns`\n",
    "    \n",
    "    step 4. then multiply `average_daily_log_returns` by 250 and set it to the variable `annualized_log_return`\n",
    "    \n",
    "    step 5. return `annualized_log_return`"
   ]
  },
  {
   "cell_type": "code",
   "execution_count": 15,
   "metadata": {},
   "outputs": [],
   "source": [
    "def annualize_log_return(daily_log_return):\n",
    "    average_daily_log_returns = np.mean(daily_log_return)\n",
    "    annualized_log_return = 250 * average_daily_log_returns\n",
    "    return annualized_log_return"
   ]
  },
  {
   "cell_type": "markdown",
   "metadata": {},
   "source": [
    "## Calculate Annualize Daily Log Return for SBRA"
   ]
  },
  {
   "cell_type": "markdown",
   "metadata": {},
   "source": [
    "10. Call the function `annualize_log_return` with the arguments `daily_log_returns_sbra`. Set it to the variable `annualized_log_return_sbra`. Then print the results. "
   ]
  },
  {
   "cell_type": "code",
   "execution_count": 16,
   "metadata": {},
   "outputs": [
    {
     "data": {
      "text/plain": [
       "0.5044563709645333"
      ]
     },
     "execution_count": 16,
     "metadata": {},
     "output_type": "execute_result"
    }
   ],
   "source": [
    "annualized_log_return_SBRA = annualize_log_return(daily_log_returns_SBRA)\n",
    "annualized_log_return_SBRA"
   ]
  },
  {
   "cell_type": "markdown",
   "metadata": {},
   "source": [
    "## Calculate Annualize Daily Log Return for EQR"
   ]
  },
  {
   "cell_type": "markdown",
   "metadata": {},
   "source": [
    "11. Call the function `annualize_log_return` with the arguments `daily_log_returns_eqr`. Set it to the variable `annualized_log_return_eqr`. Then print the results. "
   ]
  },
  {
   "cell_type": "code",
   "execution_count": 17,
   "metadata": {},
   "outputs": [
    {
     "data": {
      "text/plain": [
       "0.3855982155640554"
      ]
     },
     "execution_count": 17,
     "metadata": {},
     "output_type": "execute_result"
    }
   ],
   "source": [
    "annualized_log_return_EQR = annualize_log_return(daily_log_returns_EQR)\n",
    "annualized_log_return_EQR"
   ]
  },
  {
   "cell_type": "markdown",
   "metadata": {},
   "source": [
    "## Compare the Annualize Daily Log Return between EQR and SBRA"
   ]
  },
  {
   "cell_type": "markdown",
   "metadata": {},
   "source": [
    "12. Based on the differences between the Annualize Daily Log Return for EQR and SBRA, Which could be more profitable in the future and why?"
   ]
  },
  {
   "cell_type": "markdown",
   "metadata": {},
   "source": [
    "### SBRA Has a better annualized rate of return"
   ]
  },
  {
   "cell_type": "markdown",
   "metadata": {},
   "source": [
    "## Calculate Variance of Daily Log Return for SBRA"
   ]
  },
  {
   "cell_type": "markdown",
   "metadata": {},
   "source": [
    "13. Calculate the variance of the daily logarithmetic return for SBRA. Use the function `.var()` with the argument `log_daily_ror`. Set it to the variable `daily_varaince_sbra`. Then print the results. "
   ]
  },
  {
   "cell_type": "code",
   "execution_count": 18,
   "metadata": {},
   "outputs": [
    {
     "data": {
      "text/plain": [
       "0.00017844226355047074"
      ]
     },
     "execution_count": 18,
     "metadata": {},
     "output_type": "execute_result"
    }
   ],
   "source": [
    "daily_varaince_SBRA = np.var(daily_log_returns_SBRA)\n",
    "daily_varaince_SBRA"
   ]
  },
  {
   "cell_type": "markdown",
   "metadata": {},
   "source": [
    "## Calculate Variance of Daily Log Return for EQR"
   ]
  },
  {
   "cell_type": "markdown",
   "metadata": {},
   "source": [
    "14. Calculate the variance of the daily logarithmetic return for EQR. Use the function `.var()` with the argument `daily_log_returns_eqr`. Set it to the variable `daily_varaince_eqr`. Then print the results. "
   ]
  },
  {
   "cell_type": "code",
   "execution_count": 19,
   "metadata": {},
   "outputs": [
    {
     "data": {
      "text/plain": [
       "6.833881310511606e-05"
      ]
     },
     "execution_count": 19,
     "metadata": {},
     "output_type": "execute_result"
    }
   ],
   "source": [
    "daily_varaince_EQR = np.var(daily_log_returns_EQR)\n",
    "daily_varaince_EQR"
   ]
  },
  {
   "cell_type": "markdown",
   "metadata": {},
   "source": [
    "## Compare the Variance of Daily Log Return between EQR and SBRA"
   ]
  },
  {
   "cell_type": "markdown",
   "metadata": {},
   "source": [
    "15. Explain which investment is more riskier based on the Variance of daily log return between EQR and SBRA ?"
   ]
  },
  {
   "cell_type": "markdown",
   "metadata": {},
   "source": [
    "### SBRA Has a higher variance and involves more risk"
   ]
  },
  {
   "cell_type": "markdown",
   "metadata": {},
   "source": [
    "## Calculate the Daily Standard Deviation for SBRA"
   ]
  },
  {
   "cell_type": "markdown",
   "metadata": {},
   "source": [
    "16. Calculate the Standard Deviation of the daily logarithmetic return for SBRA. Use the function `.std()` with the argument `daily_log_returns_sbra`. Set it to the variable `daily_sd_sbra`. Then print the results. "
   ]
  },
  {
   "cell_type": "code",
   "execution_count": 21,
   "metadata": {},
   "outputs": [
    {
     "data": {
      "text/plain": [
       "0.013358228308816658"
      ]
     },
     "execution_count": 21,
     "metadata": {},
     "output_type": "execute_result"
    }
   ],
   "source": [
    "daily_varaince_SBRA = np.std(daily_log_returns_SBRA)\n",
    "daily_varaince_SBRA"
   ]
  },
  {
   "cell_type": "markdown",
   "metadata": {},
   "source": [
    "## Calculate the Daily Standard Deviation for EQR"
   ]
  },
  {
   "cell_type": "markdown",
   "metadata": {},
   "source": [
    "17. Calculate the Standard Deviation of the daily logarithmetic return for EQR. Use the function `.std()` with the argument `daily_log_returns_eqr`. Set it to the variable `daily_sd_eqr`. Then print the results. "
   ]
  },
  {
   "cell_type": "code",
   "execution_count": 22,
   "metadata": {},
   "outputs": [
    {
     "data": {
      "text/plain": [
       "0.00826672928703463"
      ]
     },
     "execution_count": 22,
     "metadata": {},
     "output_type": "execute_result"
    }
   ],
   "source": [
    "daily_varaince_EQR = np.std(daily_log_returns_EQR)\n",
    "daily_varaince_EQR"
   ]
  },
  {
   "cell_type": "markdown",
   "metadata": {},
   "source": [
    "## Compare the Daily Standard Deviation between EQR and SBRA"
   ]
  },
  {
   "cell_type": "markdown",
   "metadata": {},
   "source": [
    "18. Has your previous variance risk assessment changed based on the Daily Standard Deviation and why?"
   ]
  },
  {
   "cell_type": "markdown",
   "metadata": {},
   "source": [
    "### No, SBRA has a higher standard deviation so still involves more risk"
   ]
  },
  {
   "cell_type": "markdown",
   "metadata": {},
   "source": [
    "## Calculate the Correlation between SBRA and EQR"
   ]
  },
  {
   "cell_type": "markdown",
   "metadata": {},
   "source": [
    "19. Calculate the Correlation of the daily logarithmetic return between SBRA and ERQ assets. Use the function `.corrcoef()` with the arguments `daily_log_returns_sbra` and `daily_log_returns_eqr`. Set it to the variable `corr_sbra_eqr`. Then print the results. "
   ]
  },
  {
   "cell_type": "code",
   "execution_count": 23,
   "metadata": {},
   "outputs": [
    {
     "data": {
      "text/plain": [
       "array([[1.        , 0.62096591],\n",
       "       [0.62096591, 1.        ]])"
      ]
     },
     "execution_count": 23,
     "metadata": {},
     "output_type": "execute_result"
    }
   ],
   "source": [
    "corr_sbra_eqr = np.corrcoef(daily_log_returns_SBRA, daily_log_returns_EQR)\n",
    "corr_sbra_eqr"
   ]
  },
  {
   "cell_type": "markdown",
   "metadata": {},
   "source": [
    "## Interpret the Correlation between SBRA and EQR"
   ]
  },
  {
   "cell_type": "markdown",
   "metadata": {},
   "source": [
    "20. Interpret and explain the correlation between the stocks SBRA and EQR?\n",
    "\n",
    "There is a positive correlation between the two stocks meaning they trend in the same directions usually"
   ]
  },
  {
   "cell_type": "markdown",
   "metadata": {},
   "source": [
    "## Final Analysis"
   ]
  },
  {
   "cell_type": "markdown",
   "metadata": {},
   "source": [
    "21. Which stock would you invest in based on risk and profitability?\n",
    "\n",
    "Up for interpretation. I like bigger risk, so I would go with SBRA."
   ]
  },
  {
   "cell_type": "code",
   "execution_count": null,
   "metadata": {},
   "outputs": [],
   "source": []
  }
 ],
 "metadata": {
  "kernelspec": {
   "display_name": "Python 3",
   "language": "python",
   "name": "python3"
  },
  "language_info": {
   "codemirror_mode": {
    "name": "ipython",
    "version": 3
   },
   "file_extension": ".py",
   "mimetype": "text/x-python",
   "name": "python",
   "nbconvert_exporter": "python",
   "pygments_lexer": "ipython3",
   "version": "3.8.8"
  },
  "latex_envs": {
   "LaTeX_envs_menu_present": true,
   "autoclose": false,
   "autocomplete": true,
   "bibliofile": "biblio.bib",
   "cite_by": "apalike",
   "current_citInitial": 1,
   "eqLabelWithNumbers": true,
   "eqNumInitial": 1,
   "hotkeys": {
    "equation": "Ctrl-E",
    "itemize": "Ctrl-I"
   },
   "labels_anchors": false,
   "latex_user_defs": false,
   "report_style_numbering": false,
   "user_envs_cfg": false
  }
 },
 "nbformat": 4,
 "nbformat_minor": 2
}
