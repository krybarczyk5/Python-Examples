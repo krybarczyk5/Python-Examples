{
 "cells": [
  {
   "cell_type": "code",
   "execution_count": 1,
   "id": "8dcecbea",
   "metadata": {},
   "outputs": [
    {
     "name": "stderr",
     "output_type": "stream",
     "text": [
      "<ipython-input-1-fd0b9af24538>:2: FutureWarning: Passing a negative integer is deprecated in version 1.0 and will not be supported in future version. Instead, use None to not limit the column width.\n",
      "  pd.set_option('display.max_colwidth', -1)\n"
     ]
    }
   ],
   "source": [
    "import pandas as pd\n",
    "pd.set_option('display.max_colwidth', -1)"
   ]
  },
  {
   "cell_type": "markdown",
   "id": "9801da78",
   "metadata": {},
   "source": [
    "We’ve provided a csv file containing data about the game show Jeopardy! in a file named jeopardy.csv. Load the data into a DataFrame and investigate its contents. Try to print out specific columns.\n",
    "\n",
    "Note that in order to make this project as “real-world” as possible, we haven’t modified the data at all — we’re giving it to you exactly how we found it. As a result, this data isn’t as “clean” as the datasets you normally find on Codecademy. More specifically, there’s something odd about the column names. After you figure out the problem with the column names, you may want to rename them to make your life easier the rest of the project.\n",
    "\n",
    "In order to disply the full contents of a column, we’ve added this line of code to the top of your file:"
   ]
  },
  {
   "cell_type": "code",
   "execution_count": 2,
   "id": "ba03452c",
   "metadata": {},
   "outputs": [
    {
     "name": "stdout",
     "output_type": "stream",
     "text": [
      "   Show Number    Air Date      Round                         Category  Value  \\\n",
      "0  4680         2004-12-31  Jeopardy!  HISTORY                          $200    \n",
      "1  4680         2004-12-31  Jeopardy!  ESPN's TOP 10 ALL-TIME ATHLETES  $200    \n",
      "2  4680         2004-12-31  Jeopardy!  EVERYBODY TALKS ABOUT IT...      $200    \n",
      "3  4680         2004-12-31  Jeopardy!  THE COMPANY LINE                 $200    \n",
      "4  4680         2004-12-31  Jeopardy!  EPITAPHS & TRIBUTES              $200    \n",
      "\n",
      "                                                                                                      Question  \\\n",
      "0  For the last 8 years of his life, Galileo was under house arrest for espousing this man's theory              \n",
      "1  No. 2: 1912 Olympian; football star at Carlisle Indian School; 6 MLB seasons with the Reds, Giants & Braves   \n",
      "2  The city of Yuma in this state has a record average of 4,055 hours of sunshine each year                      \n",
      "3  In 1963, live on \"The Art Linkletter Show\", this company served its billionth burger                          \n",
      "4  Signer of the Dec. of Indep., framer of the Constitution of Mass., second President of the United States      \n",
      "\n",
      "       Answer  \n",
      "0  Copernicus  \n",
      "1  Jim Thorpe  \n",
      "2  Arizona     \n",
      "3  McDonald's  \n",
      "4  John Adams  \n"
     ]
    }
   ],
   "source": [
    "#Load in the jeopardy data\n",
    "df = pd.read_csv('jeopardy.csv')\n",
    "print(df.head())"
   ]
  },
  {
   "cell_type": "code",
   "execution_count": 3,
   "id": "88fbcf81",
   "metadata": {},
   "outputs": [
    {
     "name": "stdout",
     "output_type": "stream",
     "text": [
      "Index(['Show Number', ' Air Date', ' Round', ' Category', ' Value',\n",
      "       ' Question', ' Answer'],\n",
      "      dtype='object')\n"
     ]
    }
   ],
   "source": [
    "# Finding out what is wrong with column names\n",
    "print(df.columns)"
   ]
  },
  {
   "cell_type": "code",
   "execution_count": 4,
   "id": "04274870",
   "metadata": {},
   "outputs": [
    {
     "name": "stdout",
     "output_type": "stream",
     "text": [
      "Index(['Show Number', 'Air Date', 'Round', 'Category', 'Value', 'Question',\n",
      "       'Answer'],\n",
      "      dtype='object')\n"
     ]
    }
   ],
   "source": [
    "# Column names have extra spaces. Cleaning them up for easier analysis\n",
    "jeopardy = df.rename(columns = {\" Air Date\": \"Air Date\", \" Round\" : \"Round\", \" Category\": \\\n",
    "                                \"Category\", \" Value\": \"Value\", \" Question\":\"Question\", \" Answer\": \"Answer\"})\n",
    "print(jeopardy.columns)"
   ]
  },
  {
   "cell_type": "markdown",
   "id": "869d1219",
   "metadata": {},
   "source": [
    "Write a function that filters the dataset for questions that contains all of the words in a list of words. For example, when the list [\"King\", \"England\"] was passed to our function, the function returned a DataFrame of 152 rows. Every row had the strings \"King\" and \"England\" somewhere in its \" Question\".\n",
    "\n",
    "Note that in this example, we found 152 rows by filtering the entire dataset. You can download the entire dataset at the start or end of this project. The dataset used on Codecademy is only a fraction of the dataset so you won’t find as many rows.\n",
    "\n",
    "Test your function by printing out the column containing the question of each row of the dataset.\n"
   ]
  },
  {
   "cell_type": "markdown",
   "id": "cb43ae83",
   "metadata": {},
   "source": [
    "Test your original function with a few different sets of words to try to find some ways your function breaks. Edit your function so it is more robust.\n",
    "\n",
    "For example, think about capitalization. We probably want to find questions that contain the word \"King\" or \"king\".\n",
    "\n",
    "You may also want to check to make sure you don’t find rows that contain substrings of your given words. For example, our function found a question that didn’t contain the word \"king\", however it did contain the word \"viking\" — it found the \"king\" inside \"viking\". Note that this also comes with some drawbacks — you would no longer find questions that contained words like \"England's\".\n"
   ]
  },
  {
   "cell_type": "code",
   "execution_count": 5,
   "id": "76caf3bd",
   "metadata": {},
   "outputs": [
    {
     "name": "stdout",
     "output_type": "stream",
     "text": [
      "        Show Number    Air Date             Round               Category  \\\n",
      "4953    3003         1997-09-24  Double Jeopardy!  \"PH\"UN WORDS            \n",
      "6337    3517         1999-12-14  Double Jeopardy!  Y1K                     \n",
      "9191    3907         2001-09-04  Double Jeopardy!  WON THE BATTLE          \n",
      "11710   2903         1997-03-26  Double Jeopardy!  BRITISH MONARCHS        \n",
      "13454   4726         2005-03-07  Jeopardy!         A NUMBER FROM 1 TO 10   \n",
      "...      ...                ...        ...                           ...   \n",
      "208295  4621         2004-10-11  Jeopardy!         THE VIKINGS             \n",
      "208742  4863         2005-11-02  Double Jeopardy!  BEFORE & AFTER          \n",
      "213870  5856         2010-02-15  Double Jeopardy!  URANUS                  \n",
      "216021  1881         1992-11-09  Double Jeopardy!  HISTORIC NAMES          \n",
      "216789  5070         2006-09-29  Double Jeopardy!  ANCIENT HISTORY         \n",
      "\n",
      "         Value  \\\n",
      "4953    $200     \n",
      "6337    $800     \n",
      "9191    $800     \n",
      "11710   $600     \n",
      "13454   $1000    \n",
      "...       ...    \n",
      "208295  $600     \n",
      "208742  $3,000   \n",
      "213870  $1600    \n",
      "216021  $1000    \n",
      "216789  $1200    \n",
      "\n",
      "                                                                                                      Question  \\\n",
      "4953    Both England's King George V & FDR put their stamp of approval on this \"King of Hobbies\"                 \n",
      "6337    In retaliation for Viking raids, this \"Unready\" king of England attacks Norse areas of the Isle of Man   \n",
      "9191    This king of England beat the odds to trounce the French in the 1415 Battle of Agincourt                 \n",
      "11710   This Scotsman, the first Stuart king of England, was called \"The Wisest Fool in Christendom\"             \n",
      "13454   It's the number that followed the last king of England named William                                     \n",
      "...                                                                      ...                                     \n",
      "208295  In 1066 this great-great grandson of Rollo made what some call the last Viking invasion of England       \n",
      "208742  Dutch-born king who ruled England jointly with Mary II & is a tasty New Zealand fish                     \n",
      "213870  In 1781 William Herschel discovered Uranus & initially named it after this king of England               \n",
      "216021  His nickname was \"Bertie\", but he used this name & number when he became king of England in 1901         \n",
      "216789  This kingdom of England grew from 2 settlements, one founded around 495 by Cerdic & his son Cynric       \n",
      "\n",
      "                              Answer  \n",
      "4953    Philately (stamp collecting)  \n",
      "6337    Ethelred                      \n",
      "9191    Henry V                       \n",
      "11710   James I                       \n",
      "13454   4                             \n",
      "...    ..                             \n",
      "208295  William the Conqueror         \n",
      "208742  William of Orange roughy      \n",
      "213870  George III                    \n",
      "216021  Edward VII                    \n",
      "216789  Wessex                        \n",
      "\n",
      "[152 rows x 7 columns]\n"
     ]
    }
   ],
   "source": [
    "### Function takes the arguments data (a dataframe) and the words to be filtered\n",
    "### Lambda function used to put everything into lowercase so that words can be found regardless of case\n",
    "def filter(data, words):\n",
    "        contains = lambda x: all(word.lower() in x.lower() for word in words)\n",
    "        return data.loc[data['Question'].apply(contains)]\n",
    "\n",
    "test = filter(jeopardy, ['King', 'England'])\n",
    "print(test)"
   ]
  },
  {
   "cell_type": "code",
   "execution_count": 6,
   "id": "9674549c",
   "metadata": {},
   "outputs": [
    {
     "name": "stdout",
     "output_type": "stream",
     "text": [
      "        Show Number    Air Date             Round                   Category  \\\n",
      "51910   4895         2005-12-16  Jeopardy!         CHICKS RULE!                \n",
      "52510   2912         1997-04-08  Double Jeopardy!  CONTEMPORARIES              \n",
      "61540   3048         1997-11-26  Jeopardy!         PEOPLE IN HISTORY           \n",
      "66845   5575         2008-11-28  Double Jeopardy!  HEY 19                      \n",
      "70809   3579         2000-03-09  Double Jeopardy!  MUSIC                       \n",
      "71291   4366         2003-09-08  Double Jeopardy!  NAME THE DECADE             \n",
      "78626   4392         2003-10-14  Double Jeopardy!  THREE'S COMPANY             \n",
      "96160   2207         1994-03-22  Double Jeopardy!  KINGS & QUEENS              \n",
      "96764   3870         2001-06-01  Double Jeopardy!  PEOPLE IN HISTORY           \n",
      "140746  6092         2011-02-22  Double Jeopardy!  HOMECOMING KINGS & QUEENS   \n",
      "141359  65           1984-12-07  Final Jeopardy!   TITLED HEADS                \n",
      "177111  963          1988-11-09  Double Jeopardy!  MISSIONARIES                \n",
      "179164  4733         2005-03-16  Jeopardy!         HISTORIC NAMES              \n",
      "180909  2869         1997-02-06  Double Jeopardy!  TEENS OF THE PAST           \n",
      "185407  5316         2007-10-22  Double Jeopardy!  R&B (ROYALTY & BALLET)      \n",
      "191010  3609         2000-04-20  Double Jeopardy!  THE GOAT                    \n",
      "206654  3864         2001-05-24  Jeopardy!         QUEENS                      \n",
      "207557  3930         2001-10-05  Double Jeopardy!  FRENCH ART & ARTISTS        \n",
      "208661  5244         2007-05-31  Jeopardy!         DESCARTES                   \n",
      "215389  3400         1999-05-21  Jeopardy!         FUN COUPLES IN HISTORY      \n",
      "\n",
      "        Value  \\\n",
      "51910   $800    \n",
      "52510   $400    \n",
      "61540   $300    \n",
      "66845   $1600   \n",
      "70809   $200    \n",
      "71291   $1600   \n",
      "78626   $1200   \n",
      "96160   $400    \n",
      "96764   $400    \n",
      "140746  $400    \n",
      "141359  None    \n",
      "177111  $600    \n",
      "179164  $200    \n",
      "180909  $200    \n",
      "185407  $1200   \n",
      "191010  $200    \n",
      "206654  $500    \n",
      "207557  $400    \n",
      "208661  $1000   \n",
      "215389  $300    \n",
      "\n",
      "                                                                                                                                                                                           Question  \\\n",
      "51910   In 1559, filling out an already impressive resume, she became queen consort of France as well as queen of Scotland                                                                            \n",
      "52510   In 1547 Hernan Cortes died & this Medici became queen of France                                                                                                                               \n",
      "61540   Born in 1519, this Medici queen of France was the great-niece of Pope Leo X                                                                                                                   \n",
      "66845   She was Queen of France for 19 years, from 1774 to 1793                                                                                                                                       \n",
      "70809   Legend says one of Haydn's symphonies is nicknamed \"The Queen\" because this queen of France liked it                                                                                          \n",
      "71291   France's king & queen make a royal visit to the guillotine                                                                                                                                    \n",
      "78626   The principal action of this 1844 novel involves the return of 12 diamond pendants to the queen of France                                                                                     \n",
      "96160   2 members of this Florentine family, Catherine & Marie, became queens of France                                                                                                               \n",
      "96764   One of the most powerful Queen Mothers ever, this Medici was the mother of the last 3 Valois kings of France                                                                                  \n",
      "140746  Mary, queen of these people, didn't see many of them when she lived in France from age 5 until her return at 18                                                                               \n",
      "141359  Queen of France 1559-60; Catholic Europe considered her the rightful queen of England                                                                                                         \n",
      "177111  After the queen of this South Seas island expelled French missionaries, France took over the island                                                                                           \n",
      "179164  Just months after becoming the Duchess of Aquitaine, she became the Queen of France                                                                                                           \n",
      "180909  This Scotswoman was just 16 when she became queen of France in 1559                                                                                                                           \n",
      "185407  The first ballet, \"Ballet Comique de la Reine\", was presented at the court of this Medici Queen of France in 1581                                                                             \n",
      "191010  Many blamed France's financial problems just before the revolution on this queen's spending                                                                                                   \n",
      "206654  This queen was the mother of France's Louis XVII                                                                                                                                              \n",
      "207557  Seen <a href=\"http://www.j-archive.com/media/2001-10-05_DJ_03.jpg\" target=\"_blank\">here</a> in a self-portrait, Madame Vigee Lebrun was painter to this queen before fleeing France in 1789   \n",
      "208661  Though born in France, Descartes died in this country where he had gone to teach Queen Christina                                                                                              \n",
      "215389  Some say this queen of France lost her head over a handsome Swede before she really lost her head in 1793                                                                                     \n",
      "\n",
      "                      Answer  \n",
      "51910   Mary Stuart           \n",
      "52510   Catherine             \n",
      "61540   Catherine de' Medici  \n",
      "66845   Marie Antoinette      \n",
      "70809   Marie Antoinette      \n",
      "71291   the 1790s             \n",
      "78626   The Three Musketeers  \n",
      "96160   the de Medici         \n",
      "96764   Catherine de' Medici  \n",
      "140746  the Scots             \n",
      "141359  Mary, Queen of Scots  \n",
      "177111  Tahiti                \n",
      "179164  Eleanor of Aquitaine  \n",
      "180909  Mary, Queen of Scots  \n",
      "185407  Catherine             \n",
      "191010  Marie Antoinette      \n",
      "206654  Marie Antoinette      \n",
      "207557  Marie Antoinette      \n",
      "208661  Sweden                \n",
      "215389  Marie Antoinette      \n"
     ]
    }
   ],
   "source": [
    "test2 = filter(jeopardy, ['France', 'Queen'])\n",
    "print(test2)"
   ]
  },
  {
   "cell_type": "markdown",
   "id": "21feaad3",
   "metadata": {},
   "source": [
    "We may want to eventually compute aggregate statistics, like .mean() on the \" Value\" column. But right now, the values in that column are strings. Convert the \" Value\" column to floats. If you’d like to, you can create a new column with the float values."
   ]
  },
  {
   "cell_type": "code",
   "execution_count": 7,
   "id": "113c79c9",
   "metadata": {},
   "outputs": [
    {
     "name": "stdout",
     "output_type": "stream",
     "text": [
      "<class 'pandas.core.frame.DataFrame'>\n",
      "RangeIndex: 216930 entries, 0 to 216929\n",
      "Data columns (total 7 columns):\n",
      " #   Column       Non-Null Count   Dtype \n",
      "---  ------       --------------   ----- \n",
      " 0   Show Number  216930 non-null  int64 \n",
      " 1   Air Date     216930 non-null  object\n",
      " 2   Round        216930 non-null  object\n",
      " 3   Category     216930 non-null  object\n",
      " 4   Value        216930 non-null  object\n",
      " 5   Question     216930 non-null  object\n",
      " 6   Answer       216928 non-null  object\n",
      "dtypes: int64(1), object(6)\n",
      "memory usage: 11.6+ MB\n",
      "None\n"
     ]
    }
   ],
   "source": [
    "### Find out what values is stored as\n",
    "print(jeopardy.info('Value'))"
   ]
  },
  {
   "cell_type": "code",
   "execution_count": 8,
   "id": "a62e9686",
   "metadata": {},
   "outputs": [
    {
     "name": "stdout",
     "output_type": "stream",
     "text": [
      "0    200\n",
      "1    200\n",
      "2    200\n",
      "3    200\n",
      "4    200\n",
      "Name: Value, dtype: object\n"
     ]
    }
   ],
   "source": [
    "### Values are stored as strings. They contain a dollar sign, some have commas, and some have \"None\" instead of a number\n",
    "### Values need to be converted to floats by removing the dollar sign and comma, and replacing \"None\" with 0\n",
    "### Removes the dollar sign and replaces none with 0\n",
    "jeopardy['Value'] = jeopardy['Value'].apply(lambda x: x[1:] if x!= \"None\" else 0)\n",
    "print(jeopardy['Value'].head())"
   ]
  },
  {
   "cell_type": "code",
   "execution_count": 9,
   "id": "51e85eda",
   "metadata": {},
   "outputs": [
    {
     "name": "stdout",
     "output_type": "stream",
     "text": [
      "0         200 \n",
      "1         200 \n",
      "2         200 \n",
      "3         200 \n",
      "4         200 \n",
      "         ...  \n",
      "216925    2000\n",
      "216926    2000\n",
      "216927    2000\n",
      "216928    2000\n",
      "216929    0   \n",
      "Name: Value, Length: 216930, dtype: object\n"
     ]
    }
   ],
   "source": [
    "### Remove the commas from the thousands values\n",
    "jeopardy['Value'] = jeopardy['Value'].apply(lambda x: x.replace(',', '') if x!= 0 else 0)\n",
    "print(jeopardy['Value'])"
   ]
  },
  {
   "cell_type": "code",
   "execution_count": 10,
   "id": "d8aaf8d2",
   "metadata": {},
   "outputs": [
    {
     "name": "stdout",
     "output_type": "stream",
     "text": [
      "0         200.0 \n",
      "1         200.0 \n",
      "2         200.0 \n",
      "3         200.0 \n",
      "4         200.0 \n",
      "          ...   \n",
      "216925    2000.0\n",
      "216926    2000.0\n",
      "216927    2000.0\n",
      "216928    2000.0\n",
      "216929    0.0   \n",
      "Name: Value, Length: 216930, dtype: float64\n"
     ]
    }
   ],
   "source": [
    "### Convert the valuies into floats\n",
    "jeopardy['Value'] = jeopardy['Value'].astype(float)\n",
    "print(jeopardy['Value'])"
   ]
  },
  {
   "cell_type": "markdown",
   "id": "0c67155a",
   "metadata": {},
   "source": [
    "Now that you can filter the dataset of question, use your new column that contains the float values of each question to find the “difficulty” of certain topics. For example, what is the average value of questions that contain the word \"King\"?\n",
    "\n",
    "Make sure to use the dataset that contains the float values as the dataset you use in your filtering function."
   ]
  },
  {
   "cell_type": "code",
   "execution_count": 11,
   "id": "4f50340c",
   "metadata": {},
   "outputs": [
    {
     "name": "stdout",
     "output_type": "stream",
     "text": [
      "count    216930.000000\n",
      "mean     739.988476   \n",
      "std      639.822693   \n",
      "min      0.000000     \n",
      "25%      400.000000   \n",
      "50%      600.000000   \n",
      "75%      1000.000000  \n",
      "max      18000.000000 \n",
      "Name: Value, dtype: float64\n"
     ]
    }
   ],
   "source": [
    "### Bring in numpy and get summary stats about the value column\n",
    "import numpy as np\n",
    "print(jeopardy['Value'].describe())"
   ]
  },
  {
   "cell_type": "code",
   "execution_count": 12,
   "id": "7c2c7a02",
   "metadata": {},
   "outputs": [
    {
     "name": "stdout",
     "output_type": "stream",
     "text": [
      "count    65811.00000\n",
      "mean     777.49276  \n",
      "std      646.79280  \n",
      "min      0.00000    \n",
      "25%      400.00000  \n",
      "50%      600.00000  \n",
      "75%      1000.00000 \n",
      "max      18000.00000\n",
      "Name: Value, dtype: float64\n"
     ]
    }
   ],
   "source": [
    "### Can use our previously created filter function and call the value column to get the stats\n",
    "### Based on the words we would like to investigate. This example is questions that contain King\n",
    "filtervalue1 = filter(jeopardy, \"King\")\n",
    "print(filtervalue1['Value'].describe())"
   ]
  },
  {
   "cell_type": "code",
   "execution_count": 13,
   "id": "1cb6cf70",
   "metadata": {},
   "outputs": [
    {
     "name": "stdout",
     "output_type": "stream",
     "text": [
      "count    11097.000000\n",
      "mean     768.433901  \n",
      "std      660.619932  \n",
      "min      0.000000    \n",
      "25%      400.000000  \n",
      "50%      600.000000  \n",
      "75%      1000.000000 \n",
      "max      10800.000000\n",
      "Name: Value, dtype: float64\n"
     ]
    }
   ],
   "source": [
    "### Questions that contain Queen\n",
    "filtervalue2 = filter(jeopardy, \"Queen\")\n",
    "print(filtervalue2['Value'].describe())"
   ]
  },
  {
   "cell_type": "code",
   "execution_count": 14,
   "id": "c6d785ed",
   "metadata": {},
   "outputs": [
    {
     "name": "stdout",
     "output_type": "stream",
     "text": [
      "count    102.000000 \n",
      "mean     815.686275 \n",
      "std      857.436324 \n",
      "min      0.000000   \n",
      "25%      300.000000 \n",
      "50%      600.000000 \n",
      "75%      1000.000000\n",
      "max      5000.000000\n",
      "Name: Value, dtype: float64\n"
     ]
    }
   ],
   "source": [
    "### Questions that contain King and Queen\n",
    "filtervalue3 = filter(jeopardy, [\"King\", \"Queen\"])\n",
    "print(filtervalue3['Value'].describe())"
   ]
  },
  {
   "cell_type": "code",
   "execution_count": 15,
   "id": "bde28657",
   "metadata": {},
   "outputs": [],
   "source": [
    "# Based on the stats above, difficulty can be assessed based on the average values. \n",
    "# King had the most questions with 65,811 and queen only 11,097. Using king and queen gives only 102 questions.\n",
    "# The average difficulty for the king and Queen combination is higher than king or queen alone. This is shown \n",
    "# in the average value of \\\\$815, which is roughly $50 higher than the averages for King and Queen alone."
   ]
  },
  {
   "cell_type": "markdown",
   "id": "dc33e378",
   "metadata": {},
   "source": [
    "Write a function that returns the count of the unique answers to all of the questions in a dataset. For example, after filtering the entire dataset to only questions containing the word \"King\", we could then find all of the unique answers to those questions. The answer “Henry VIII” appeared 3 times and was the most common answer."
   ]
  },
  {
   "cell_type": "code",
   "execution_count": 16,
   "id": "f67eb6af",
   "metadata": {},
   "outputs": [
    {
     "name": "stdout",
     "output_type": "stream",
     "text": [
      "Edward VII       1\n",
      "Ronald Reagan    1\n",
      "George I         1\n",
      "Name: Answer, dtype: int64\n"
     ]
    }
   ],
   "source": [
    "### Function returns the values from the Answer column. Use the prvious filter function\n",
    "### to filter the data and imput it into this function\n",
    "def unique_answers(data):\n",
    "    return data['Answer'].value_counts()\n",
    "\n",
    "### Test the function\n",
    "Answer_count = filter(jeopardy, ['King', 'Queen', 'England']) \n",
    "print(unique_answers(Answer_count))"
   ]
  },
  {
   "cell_type": "markdown",
   "id": "f802e1c7",
   "metadata": {},
   "source": [
    "Explore from here! This is an incredibly rich dataset, and there are so many interesting things to discover. There are a few columns that we haven’t even started looking at yet. Here are some ideas on ways to continue working with this data:\n",
    "\n",
    "    Investigate the ways in which questions change over time by filtering by the date. How many questions from the 90s use the word \"Computer\" compared to questions from the 2000s?\n",
    "    Is there a connection between the round and the category? Are you more likely to find certain categories, like \"Literature\" in Single Jeopardy or Double Jeopardy?\n",
    "    Build a system to quiz yourself. Grab random questions, and use the input function to get a response from the user. Check to see if that response was right or wrong. Note that you can’t do this on the Codecademy platform — to do this, download the data, and write and run the code on your own computer!\n",
    "\n"
   ]
  },
  {
   "cell_type": "code",
   "execution_count": null,
   "id": "a6e41de0",
   "metadata": {},
   "outputs": [],
   "source": [
    "### To Be Continued"
   ]
  }
 ],
 "metadata": {
  "kernelspec": {
   "display_name": "Python 3",
   "language": "python",
   "name": "python3"
  },
  "language_info": {
   "codemirror_mode": {
    "name": "ipython",
    "version": 3
   },
   "file_extension": ".py",
   "mimetype": "text/x-python",
   "name": "python",
   "nbconvert_exporter": "python",
   "pygments_lexer": "ipython3",
   "version": "3.8.8"
  }
 },
 "nbformat": 4,
 "nbformat_minor": 5
}
